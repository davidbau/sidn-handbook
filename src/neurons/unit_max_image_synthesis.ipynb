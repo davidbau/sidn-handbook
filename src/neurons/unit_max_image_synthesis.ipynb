{
  "nbformat": 4,
  "nbformat_minor": 0,
  "metadata": {
    "colab": {
      "provenance": []
    },
    "kernelspec": {
      "name": "python3",
      "display_name": "Python 3"
    },
    "language_info": {
      "name": "python"
    }
  },
  "cells": [
    {
      "cell_type": "code",
      "execution_count": null,
      "metadata": {
        "id": "r77HnRq029GT"
      },
      "outputs": [],
      "source": [
        "%%capture\n",
        "!pip install torch-lucent"
      ]
    },
    {
      "cell_type": "markdown",
      "source": [
        "# Simple example of unit visualiations via image synthesis"
      ],
      "metadata": {
        "id": "4cbGFddgcUNV"
      }
    },
    {
      "cell_type": "markdown",
      "source": [
        "First: visualization a unit in inception."
      ],
      "metadata": {
        "id": "GbOIIw_9cngn"
      }
    },
    {
      "cell_type": "code",
      "source": [
        "import torch\n",
        "\n",
        "from lucent.optvis import render\n",
        "from lucent.modelzoo import inceptionv1\n",
        "\n",
        "device = torch.device(\"cuda:0\" if torch.cuda.is_available() else \"cpu\")\n",
        "model = inceptionv1(pretrained=True)\n",
        "model.to(device).eval()\n",
        "\n",
        "render.render_vis(model, \"mixed4a:476\", show_inline=True)"
      ],
      "metadata": {
        "id": "AjbOAycj3Vnd"
      },
      "execution_count": null,
      "outputs": []
    },
    {
      "cell_type": "markdown",
      "source": [
        "Next: visualize a unit in VGG."
      ],
      "metadata": {
        "id": "Hp4DXkNCcrjF"
      }
    },
    {
      "cell_type": "code",
      "source": [
        "vgg = torch.hub.load('pytorch/vision:v0.6.0', 'vgg16', pretrained=True)\n",
        "vgg.to(device).eval()\n",
        "render.render_vis(vgg, 'features_28:208', show_inline=True)"
      ],
      "metadata": {
        "id": "RcmXCYMU81sA"
      },
      "execution_count": null,
      "outputs": []
    }
  ]
}